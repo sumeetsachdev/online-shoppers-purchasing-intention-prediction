{
  "cells": [
    {
      "cell_type": "markdown",
      "metadata": {
        "id": "T_ULV96DMUXb"
      },
      "source": [
        "# IDMP Project"
      ]
    },
    {
      "cell_type": "markdown",
      "metadata": {
        "id": "5TVFsU36MUXd"
      },
      "source": [
        "## Importing necessary libraries"
      ]
    },
    {
      "cell_type": "code",
      "source": [
        "from google.colab import drive\n",
        "drive.mount('/content/drive')"
      ],
      "metadata": {
        "colab": {
          "base_uri": "https://localhost:8080/"
        },
        "id": "Q-G8o3UjNr6C",
        "outputId": "0b3a0705-9f79-43dd-bdd6-783dc77c5d57"
      },
      "execution_count": null,
      "outputs": [
        {
          "output_type": "stream",
          "name": "stdout",
          "text": [
            "Mounted at /content/drive\n"
          ]
        }
      ]
    },
    {
      "cell_type": "code",
      "execution_count": null,
      "metadata": {
        "id": "BeZWWx1_MUXd",
        "colab": {
          "base_uri": "https://localhost:8080/"
        },
        "outputId": "dc6c2c95-d237-42c9-a114-13b6671c4057"
      },
      "outputs": [
        {
          "output_type": "stream",
          "name": "stderr",
          "text": [
            "/usr/local/lib/python3.7/dist-packages/statsmodels/tools/_testing.py:19: FutureWarning: pandas.util.testing is deprecated. Use the functions in the public API at pandas.testing instead.\n",
            "  import pandas.util.testing as tm\n"
          ]
        }
      ],
      "source": [
        "# Importing the libraries\n",
        "import numpy as np\n",
        "import pandas as pd\n",
        "import seaborn as sns\n",
        "import matplotlib.pyplot as plt\n",
        "from mpl_toolkits.mplot3d import Axes3D\n",
        "import xgboost as xgb\n",
        "\n",
        "from sklearn.compose import make_column_transformer\n",
        "from sklearn.preprocessing import OneHotEncoder, MinMaxScaler\n",
        "from sklearn.utils import resample\n",
        "from sklearn.model_selection import train_test_split, GridSearchCV, RandomizedSearchCV\n",
        "from sklearn.decomposition import PCA\n",
        "from sklearn.metrics import confusion_matrix, ConfusionMatrixDisplay, accuracy_score, f1_score\n",
        "from sklearn.naive_bayes import GaussianNB\n",
        "from sklearn.linear_model import LogisticRegression, SGDClassifier\n",
        "from sklearn.svm import SVC\n",
        "from sklearn.neighbors import KNeighborsClassifier\n",
        "from sklearn.tree import DecisionTreeClassifier\n",
        "from sklearn.ensemble import RandomForestClassifier, GradientBoostingClassifier, VotingClassifier\n",
        "from sklearn.discriminant_analysis import LinearDiscriminantAnalysis\n",
        "\n",
        "import statsmodels.api as sm"
      ]
    },
    {
      "cell_type": "markdown",
      "source": [
        "## Impoering Dataset"
      ],
      "metadata": {
        "id": "ZNJAKpxhP033"
      }
    },
    {
      "cell_type": "code",
      "source": [
        "data = pd.read_csv(\"/content/drive/My Drive/datasets/online_shoppers_intention.csv\", header = 0)"
      ],
      "metadata": {
        "id": "fLS1prkePzZm"
      },
      "execution_count": null,
      "outputs": []
    },
    {
      "cell_type": "markdown",
      "metadata": {
        "id": "ROMF9mTHMUXf"
      },
      "source": [
        "## Data Preprocessing"
      ]
    },
    {
      "cell_type": "markdown",
      "metadata": {
        "id": "x36hv1xWMUXf"
      },
      "source": [
        "#### We can have a quick look at the data type in each column of our dataset to make sure if there are any missing values. "
      ]
    },
    {
      "cell_type": "code",
      "execution_count": null,
      "metadata": {
        "colab": {
          "base_uri": "https://localhost:8080/"
        },
        "id": "U_0ruk29MUXf",
        "outputId": "9dce121a-d542-4fe2-b8db-2cee45097678"
      },
      "outputs": [
        {
          "output_type": "execute_result",
          "data": {
            "text/plain": [
              "Administrative               int64\n",
              "Administrative_Duration    float64\n",
              "Informational                int64\n",
              "Informational_Duration     float64\n",
              "ProductRelated               int64\n",
              "ProductRelated_Duration    float64\n",
              "BounceRates                float64\n",
              "ExitRates                  float64\n",
              "PageValues                 float64\n",
              "SpecialDay                 float64\n",
              "Month                       object\n",
              "OperatingSystems             int64\n",
              "Browser                      int64\n",
              "Region                       int64\n",
              "TrafficType                  int64\n",
              "VisitorType                 object\n",
              "Weekend                       bool\n",
              "Revenue                       bool\n",
              "dtype: object"
            ]
          },
          "metadata": {},
          "execution_count": 4
        }
      ],
      "source": [
        "data.dtypes"
      ]
    },
    {
      "cell_type": "markdown",
      "metadata": {
        "id": "HrlYrLvkMUXg"
      },
      "source": [
        "#### Month and VisitorType are object type, we can quickly check if there is any missing values by counting the values."
      ]
    },
    {
      "cell_type": "code",
      "execution_count": null,
      "metadata": {
        "colab": {
          "base_uri": "https://localhost:8080/"
        },
        "id": "o1-CYK9bMUXh",
        "outputId": "79689da9-a21b-4488-9295-6153e5d2c151"
      },
      "outputs": [
        {
          "output_type": "stream",
          "name": "stdout",
          "text": [
            "May     3364\n",
            "Nov     2998\n",
            "Mar     1907\n",
            "Dec     1727\n",
            "Oct      549\n",
            "Sep      448\n",
            "Aug      433\n",
            "Jul      432\n",
            "June     288\n",
            "Feb      184\n",
            "Name: Month, dtype: int64\n",
            "Returning_Visitor    10551\n",
            "New_Visitor           1694\n",
            "Other                   85\n",
            "Name: VisitorType, dtype: int64\n"
          ]
        }
      ],
      "source": [
        "print(data['Month'].value_counts())\n",
        "print(data['VisitorType'].value_counts())"
      ]
    },
    {
      "cell_type": "markdown",
      "metadata": {
        "id": "piDyCSvdMUXh"
      },
      "source": [
        "## STEP 2 : Data preprocessing"
      ]
    },
    {
      "cell_type": "markdown",
      "metadata": {
        "id": "llXbODMzMUXh"
      },
      "source": [
        "#### As we have categorical features in our dataset, we need to encode them before so we can use them in our analysis later. "
      ]
    },
    {
      "cell_type": "code",
      "execution_count": null,
      "metadata": {
        "id": "PJUY_FF4MUXi",
        "colab": {
          "base_uri": "https://localhost:8080/"
        },
        "outputId": "57779f7b-8e00-4597-97e4-653ee2d691fb"
      },
      "outputs": [
        {
          "output_type": "stream",
          "name": "stdout",
          "text": [
            "False    5000\n",
            "True     1000\n",
            "Name: Revenue, dtype: int64\n",
            "False    5000\n",
            "True     1000\n",
            "Name: Revenue, dtype: int64\n",
            "                            OLS Regression Results                            \n",
            "==============================================================================\n",
            "Dep. Variable:                      y   R-squared:                       0.275\n",
            "Model:                            OLS   Adj. R-squared:                  0.270\n",
            "Method:                 Least Squares   F-statistic:                     53.89\n",
            "Date:                Mon, 13 Dec 2021   Prob (F-statistic):               0.00\n",
            "Time:                        18:08:12   Log-Likelihood:                -1625.3\n",
            "No. Observations:                6000   AIC:                             3337.\n",
            "Df Residuals:                    5957   BIC:                             3625.\n",
            "Df Model:                          42                                         \n",
            "Covariance Type:            nonrobust                                         \n",
            "==============================================================================\n",
            "                 coef    std err          t      P>|t|      [0.025      0.975]\n",
            "------------------------------------------------------------------------------\n",
            "const          0.0512      0.023      2.258      0.024       0.007       0.096\n",
            "0              0.0225      0.021      1.058      0.290      -0.019       0.064\n",
            "1             -0.0237      0.012     -1.963      0.050      -0.047   -2.97e-05\n",
            "2             -0.0193      0.033     -0.590      0.555      -0.084       0.045\n",
            "3              0.0115      0.021      0.556      0.578      -0.029       0.052\n",
            "4             -0.0306      0.024     -1.252      0.211      -0.078       0.017\n",
            "5             -0.0151      0.012     -1.295      0.195      -0.038       0.008\n",
            "6             -0.0190      0.011     -1.788      0.074      -0.040       0.002\n",
            "7              0.0921      0.010      9.169      0.000       0.072       0.112\n",
            "8              0.0332      0.019      1.791      0.073      -0.003       0.069\n",
            "9             -0.0002      0.020     -0.009      0.992      -0.039       0.039\n",
            "10             0.0085      0.030      0.280      0.779      -0.051       0.068\n",
            "11             0.0265      0.028      0.938      0.348      -0.029       0.082\n",
            "12            -0.0075      0.029     -0.259      0.795      -0.064       0.049\n",
            "13             0.0084      0.033      0.257      0.797      -0.056       0.072\n",
            "14            -0.0286      0.104     -0.275      0.783      -0.232       0.175\n",
            "15            -0.0531      0.088     -0.606      0.545      -0.225       0.119\n",
            "16             0.0852      0.117      0.730      0.466      -0.144       0.314\n",
            "17             0.0118      0.069      0.171      0.864      -0.123       0.147\n",
            "18             0.0118      0.036      0.331      0.741      -0.058       0.082\n",
            "19             0.0045      0.031      0.144      0.885      -0.056       0.065\n",
            "20            -0.0397      0.051     -0.773      0.440      -0.140       0.061\n",
            "21             0.0260      0.035      0.750      0.453      -0.042       0.094\n",
            "22            -0.0183      0.036     -0.504      0.614      -0.089       0.053\n",
            "23            -0.0671      0.046     -1.469      0.142      -0.157       0.022\n",
            "24             0.0809      0.078      1.042      0.297      -0.071       0.233\n",
            "25             0.0626      0.052      1.204      0.229      -0.039       0.165\n",
            "26            -0.0143      0.295     -0.049      0.961      -0.592       0.564\n",
            "27             0.0796      0.045      1.755      0.079      -0.009       0.169\n",
            "28            -0.0286      0.104     -0.275      0.783      -0.232       0.175\n",
            "29            -0.0520      0.124     -0.421      0.674      -0.294       0.190\n",
            "30             0.0057      0.100      0.057      0.954      -0.189       0.201\n",
            "31             0.0427      0.025      1.716      0.086      -0.006       0.091\n",
            "32            -0.0148      0.055     -0.271      0.787      -0.122       0.093\n",
            "33             0.0234      0.024      0.978      0.328      -0.024       0.070\n",
            "34             0.0210      0.012      1.728      0.084      -0.003       0.045\n",
            "35             0.0303      0.013      2.398      0.017       0.006       0.055\n",
            "36             0.0019      0.002      1.114      0.265      -0.001       0.005\n",
            "37          7.147e-06   2.92e-05      0.245      0.807   -5.01e-05    6.44e-05\n",
            "38             0.0089      0.004      2.114      0.035       0.001       0.017\n",
            "39         -2.197e-05   3.74e-05     -0.587      0.557   -9.53e-05    5.13e-05\n",
            "40          8.722e-05      0.000      0.473      0.636      -0.000       0.000\n",
            "41           9.36e-06    4.1e-06      2.281      0.023    1.32e-06    1.74e-05\n",
            "42             0.6901      0.218      3.164      0.002       0.263       1.118\n",
            "43            -1.3154      0.227     -5.792      0.000      -1.761      -0.870\n",
            "44             0.0088      0.000     38.398      0.000       0.008       0.009\n",
            "45            -0.0122      0.024     -0.506      0.613      -0.060       0.035\n",
            "46            -0.0031      0.002     -1.761      0.078      -0.007       0.000\n",
            "47             0.0013      0.001      1.221      0.222      -0.001       0.003\n",
            "==============================================================================\n",
            "Omnibus:                     1292.587   Durbin-Watson:                   0.554\n",
            "Prob(Omnibus):                  0.000   Jarque-Bera (JB):             3271.455\n",
            "Skew:                           1.174   Prob(JB):                         0.00\n",
            "Kurtosis:                       5.753   Cond. No.                     2.29e+16\n",
            "==============================================================================\n",
            "\n",
            "Warnings:\n",
            "[1] Standard Errors assume that the covariance matrix of the errors is correctly specified.\n",
            "[2] The smallest eigenvalue is 6.36e-23. This might indicate that there are\n",
            "strong multicollinearity problems or that the design matrix is singular.\n",
            "9\n",
            "[7, 11, 18, 19, 21, 25, 27, 34, 35, 38, 41, 42, 43, 44]\n"
          ]
        }
      ],
      "source": [
        "column_trans = make_column_transformer((OneHotEncoder(),['Month','OperatingSystems','Browser','VisitorType','Weekend']),remainder='passthrough')\n",
        "\n",
        "# Scaler\n",
        "scalar = MinMaxScaler()\n",
        "\n",
        "# Purchased\n",
        "dataset_p = data[data.Revenue==True]\n",
        "# Not Purchased\n",
        "dataset_np = data[data.Revenue==False]\n",
        "\n",
        "# Downsampled Dataset\n",
        "dataset_p_down = resample(dataset_p,replace=False,n_samples=1000)\n",
        "dataset_np_down = resample(dataset_np,replace=False,n_samples=5000)\n",
        "dataset = pd.concat([dataset_p_down,dataset_np_down])\n",
        "\n",
        "# dataset = data\n",
        "# from imblearn.over_sampling import SMOTEN\n",
        "\n",
        "# smoten = SMOTEN(sampling_strategy='minority')\n",
        "\n",
        "# Identifying the class label\n",
        "X = dataset.drop(columns=['Revenue'], axis=1)\n",
        "y = dataset['Revenue']\n",
        "\n",
        "# Encoding categorical features\n",
        "column_trans.fit(X)\n",
        "X = column_trans.transform(X)\n",
        "\n",
        "X = pd.DataFrame(X)\n",
        "\n",
        "print(y.value_counts())\n",
        "\n",
        "#X,y = smoten.fit_resample(X, y)\n",
        "\n",
        "print(y.value_counts())\n",
        "\n",
        "cols = list(X.columns)\n",
        "pmax = 1\n",
        "\n",
        "j = 1\n",
        "\n",
        "while (len(cols)>0):\n",
        "    p= []\n",
        "    X_1 = X[cols]\n",
        "    X_1 = sm.add_constant(X_1)\n",
        "    model = sm.OLS(list(y),X_1).fit()\n",
        "    p = pd.Series(model.pvalues.values[1:],index = cols)      \n",
        "    if j < 2:\n",
        "      print(model.summary())\n",
        "      print(p.idxmax())\n",
        "    j += 1\n",
        "    pmax = max(p)\n",
        "    feature_with_p_max = p.idxmax()\n",
        "    if(pmax>0.05):\n",
        "        cols.remove(feature_with_p_max)\n",
        "    else:\n",
        "        break\n",
        "selected_features_BE = cols\n",
        "print(selected_features_BE)\n",
        "\n",
        "# Creating training and testing set\n",
        "X_train, X_test, y_train, y_test = train_test_split(X[selected_features_BE],y,test_size=0.25,random_state=0)\n",
        "\n",
        "# X_train, y_train = smoten.fit_resample(X_train, y_train)\n",
        "# X_test, y_test = smoten.fit_resample(X_test, y_test)\n",
        "\n",
        "# Center and normalize the data\n",
        "scalar.fit(X[selected_features_BE])\n",
        "X_train = scalar.transform(X_train)\n",
        "X_test = scalar.transform(X_test)"
      ]
    },
    {
      "cell_type": "code",
      "source": [
        "print(y_train.value_counts() + y_test.value_counts())\n",
        "data['Revenue'].value_counts()"
      ],
      "metadata": {
        "colab": {
          "base_uri": "https://localhost:8080/"
        },
        "id": "Thca_6zmfa8A",
        "outputId": "b26914f7-b567-4744-9d2f-be2dace590bf"
      },
      "execution_count": null,
      "outputs": [
        {
          "output_type": "stream",
          "name": "stdout",
          "text": [
            "False    5000\n",
            "True     1000\n",
            "Name: Revenue, dtype: int64\n"
          ]
        },
        {
          "output_type": "execute_result",
          "data": {
            "text/plain": [
              "False    10422\n",
              "True      1908\n",
              "Name: Revenue, dtype: int64"
            ]
          },
          "metadata": {},
          "execution_count": 153
        }
      ]
    },
    {
      "cell_type": "code",
      "source": [
        ""
      ],
      "metadata": {
        "id": "rWXYE7a6BA8i"
      },
      "execution_count": null,
      "outputs": []
    },
    {
      "cell_type": "markdown",
      "metadata": {
        "id": "Jz03dzwoMUXi"
      },
      "source": [
        "## STEP 3 : Data Visualisation"
      ]
    },
    {
      "cell_type": "markdown",
      "metadata": {
        "id": "3YHIYzCaMUXj"
      },
      "source": [
        "## Features correlation matrix"
      ]
    },
    {
      "cell_type": "markdown",
      "metadata": {
        "id": "hkTTM8u5MUXj"
      },
      "source": [
        "#### To have an idea of correlation between our variables we can plot the correlation matrix."
      ]
    },
    {
      "cell_type": "code",
      "execution_count": null,
      "metadata": {
        "colab": {
          "base_uri": "https://localhost:8080/"
        },
        "id": "QZSMXVsLMUXj",
        "outputId": "3b410790-51f6-4f73-e279-e6401cb5da72"
      },
      "outputs": [
        {
          "output_type": "execute_result",
          "data": {
            "text/plain": [
              "<matplotlib.axes._subplots.AxesSubplot at 0x7fc4cd5331d0>"
            ]
          },
          "metadata": {},
          "execution_count": 154
        },
        {
          "output_type": "display_data",
          "data": {
            "image/png": "[encoded data removed]",
            "text/plain": [
              "<Figure size 1080x1080 with 2 Axes>"
            ]
          },
          "metadata": {
            "needs_background": "light"
          }
        }
      ],
      "source": [
        "plt.subplots(figsize=(15,15))\n",
        "matrix = np.tril(data.corr())\n",
        "sns.heatmap(dataset.corr(), annot = True, cmap= 'coolwarm',square=True,mask = matrix)"
      ]
    },
    {
      "cell_type": "markdown",
      "metadata": {
        "id": "QqH0dKa1MUXj"
      },
      "source": [
        "#### We see in the last column that the target is only correlated to a small number of variables in this dataset."
      ]
    },
    {
      "cell_type": "markdown",
      "metadata": {
        "id": "GoZgBZ11MUXk"
      },
      "source": [
        "## Principal Component Analysis"
      ]
    },
    {
      "cell_type": "markdown",
      "metadata": {
        "id": "ZJZvUJruMUXk"
      },
      "source": [
        "#### We can use principal component analysis to see if we can have a good representation of our dataset in two or three dimensions. "
      ]
    },
    {
      "cell_type": "code",
      "execution_count": null,
      "metadata": {
        "id": "DpIW6Z8rMUXk"
      },
      "outputs": [],
      "source": [
        "# pca = PCA(n_components=20)\n",
        "# X_train_pca = pca.fit_transform(X_train)\n",
        "# per_var = np.round(pca.explained_variance_ratio_*100,decimals=1)\n",
        "# labels = [str(x) for x in range(1,len(per_var)+1)]\n",
        "# plt.rcParams['figure.figsize'] = (20, 10)\n",
        "# font=20\n",
        "# plt.bar(x=range(1,len(per_var)+1),height=per_var)\n",
        "# plt.tick_params(axis='x',which='both',bottom=False,top=False,labelbottom=False)\n",
        "# plt.ylabel('Percentage of Explained Variance', fontsize = font)\n",
        "# plt.xlabel('Principal Components', fontsize = font)\n",
        "# plt.title('Scree Plot', fontsize = font)\n",
        "# plt.show()"
      ]
    },
    {
      "cell_type": "markdown",
      "metadata": {
        "id": "7XHIPy93MUXl"
      },
      "source": [
        "#### Because the percentage of explained variance decay slowly, it is not possible to represent well our dataset in two or three dimensions."
      ]
    },
    {
      "cell_type": "markdown",
      "metadata": {
        "id": "JxHHho19MUXl"
      },
      "source": [
        "## 2D PCA Plot"
      ]
    },
    {
      "cell_type": "markdown",
      "metadata": {
        "id": "KartP3prMUXl"
      },
      "source": [
        "#### We can have a look at our dataset in a 2D Plot."
      ]
    },
    {
      "cell_type": "code",
      "execution_count": null,
      "metadata": {
        "scrolled": true,
        "id": "_Z9iCnA4MUXl"
      },
      "outputs": [],
      "source": [
        "# X_r = pca.fit(X_train).transform(X_train)\n",
        "# plt.figure()\n",
        "# colors = ['darkorange', 'turquoise']\n",
        "# lw = 2\n",
        "# target_names= [\"No Purchase\",\"Purchase\"]\n",
        "\n",
        "# for color, i, target_name in zip(colors, [0, 1], target_names):\n",
        "#     plt.scatter(X_r[y_train == i, 0], X_r[y_train == i, 1], color=color, alpha=.9, lw=lw,\n",
        "#                 label=target_name)\n",
        "\n",
        "# font=15\n",
        "# plt.legend(loc='best', shadow=False, scatterpoints=1)\n",
        "# plt.title('PCA',fontsize=font)\n",
        "# pca100 = pca.explained_variance_ratio_\n",
        "# D1 = \"First principal component \" + str(round(pca100[0] * 100,1)) + \"%\"\n",
        "# D2 = \"Second principal component \" + str(round(pca100[1] * 100,1)) + \"%\"\n",
        "# plt.ylabel(D1,fontsize=font)\n",
        "# plt.xlabel(D2,fontsize=font)\n",
        "# plt.rcParams['figure.figsize'] = (15, 10)\n",
        "# plt.show()"
      ]
    },
    {
      "cell_type": "markdown",
      "metadata": {
        "id": "_17SWRGiMUXm"
      },
      "source": [
        "#### There are 12 clusters that may correspond to the 12 months."
      ]
    },
    {
      "cell_type": "markdown",
      "metadata": {
        "id": "BlHOc3G9MUXm"
      },
      "source": [
        "## Univariate Analysis"
      ]
    },
    {
      "cell_type": "markdown",
      "metadata": {
        "id": "KVY9d8BqMUXm"
      },
      "source": [
        "#### We can look at the dataset balance with a few bar plots."
      ]
    },
    {
      "cell_type": "code",
      "execution_count": null,
      "metadata": {
        "colab": {
          "base_uri": "https://localhost:8080/",
          "height": 245
        },
        "id": "-rF4_TQCMUXm",
        "outputId": "139e3b74-1089-4979-a864-eef1b4b46311"
      },
      "outputs": [
        {
          "output_type": "error",
          "ename": "NameError",
          "evalue": "ignored",
          "traceback": [
            "\u001b[0;31m---------------------------------------------------------------------------\u001b[0m",
            "\u001b[0;31mNameError\u001b[0m                                 Traceback (most recent call last)",
            "\u001b[0;32m<ipython-input-1-f5c62e8a13ab>\u001b[0m in \u001b[0;36m<module>\u001b[0;34m()\u001b[0m\n\u001b[0;32m----> 1\u001b[0;31m \u001b[0mfig\u001b[0m\u001b[0;34m,\u001b[0m \u001b[0maxs\u001b[0m \u001b[0;34m=\u001b[0m \u001b[0mplt\u001b[0m\u001b[0;34m.\u001b[0m\u001b[0msubplots\u001b[0m\u001b[0;34m(\u001b[0m\u001b[0;36m1\u001b[0m\u001b[0;34m,\u001b[0m\u001b[0;36m2\u001b[0m\u001b[0;34m)\u001b[0m\u001b[0;34m\u001b[0m\u001b[0;34m\u001b[0m\u001b[0m\n\u001b[0m\u001b[1;32m      2\u001b[0m \u001b[0mfig\u001b[0m\u001b[0;34m.\u001b[0m\u001b[0mset_size_inches\u001b[0m\u001b[0;34m(\u001b[0m\u001b[0;36m20\u001b[0m\u001b[0;34m,\u001b[0m\u001b[0;36m5\u001b[0m\u001b[0;34m)\u001b[0m\u001b[0;34m\u001b[0m\u001b[0;34m\u001b[0m\u001b[0m\n\u001b[1;32m      3\u001b[0m \u001b[0;34m\u001b[0m\u001b[0m\n\u001b[1;32m      4\u001b[0m \u001b[0;31m#Visitor Types\u001b[0m\u001b[0;34m\u001b[0m\u001b[0;34m\u001b[0m\u001b[0;34m\u001b[0m\u001b[0m\n\u001b[1;32m      5\u001b[0m \u001b[0maxs\u001b[0m\u001b[0;34m[\u001b[0m\u001b[0;36m1\u001b[0m\u001b[0;34m]\u001b[0m\u001b[0;34m.\u001b[0m\u001b[0mset_title\u001b[0m\u001b[0;34m(\u001b[0m\u001b[0;34m\"Visitor Types\"\u001b[0m\u001b[0;34m)\u001b[0m\u001b[0;34m\u001b[0m\u001b[0;34m\u001b[0m\u001b[0m\n",
            "\u001b[0;31mNameError\u001b[0m: name 'plt' is not defined"
          ]
        }
      ],
      "source": [
        "fig, axs = plt.subplots(1,2)\n",
        "fig.set_size_inches(20,5)\n",
        "\n",
        "#Visitor Types\n",
        "axs[1].set_title(\"Visitor Types\")\n",
        "Vtype = ['Returning_Visitor','New_Visitor','Other']\n",
        "count_vtype = [data['VisitorType'].value_counts()['Returning_Visitor'],\n",
        "               data['VisitorType'].value_counts()['New_Visitor'],\n",
        "               data['VisitorType'].value_counts()['Other']]\n",
        "axs[1].bar(Vtype,count_vtype)\n",
        "\n",
        "#Number of Purchased\n",
        "axs[0].set_title(\"Revenue (Purchase/NoPurchase)\")\n",
        "TF = [\"Purchase\",\"No Purchase\"]\n",
        "TF_count = [data['Revenue'].value_counts()[True],data['Revenue'].value_counts()[False]]\n",
        "axs[0].bar(TF,TF_count)\n",
        "\n",
        "plt.show()"
      ]
    },
    {
      "cell_type": "markdown",
      "metadata": {
        "id": "gmqCbnLxMUXn"
      },
      "source": [
        "#### We have approximately 5 times more negative entries and most of our dataset is composed of Returning_Visitors"
      ]
    },
    {
      "cell_type": "code",
      "execution_count": null,
      "metadata": {
        "id": "e9cWxCByMUXn"
      },
      "outputs": [],
      "source": [
        "plt.figure(figsize=(13, 4))\n",
        "sns.countplot(dataset_p.Month.dropna(), order = data.Month.value_counts().index);\n",
        "plt.title('Number of Purchase each month', fontsize = 15)"
      ]
    },
    {
      "cell_type": "markdown",
      "metadata": {
        "id": "PFDCfu1rMUXn"
      },
      "source": [
        "#### The number of 'purchase' is very important in November, maybe it is because of Black Friday ? ;)"
      ]
    },
    {
      "cell_type": "code",
      "execution_count": null,
      "metadata": {
        "id": "UwKYGz6eMUXn"
      },
      "outputs": [],
      "source": [
        "plt.figure(figsize=(13, 4))\n",
        "sns.countplot(dataset_np.Month.dropna(), order = data.Month.value_counts().index);\n",
        "plt.title('Number of No Purchase each month', fontsize = 15)"
      ]
    },
    {
      "cell_type": "markdown",
      "metadata": {
        "id": "t9B5e-CKMUXo"
      },
      "source": [
        "#### The number of “no purchase” sessions is more important in May, November, March and December, showing that there are more visits to the site these months."
      ]
    },
    {
      "cell_type": "markdown",
      "metadata": {
        "id": "ZOKoj2nZMUXo"
      },
      "source": [
        "## Bivariate analysis"
      ]
    },
    {
      "cell_type": "code",
      "execution_count": null,
      "metadata": {
        "scrolled": true,
        "colab": {
          "base_uri": "https://localhost:8080/"
        },
        "id": "pD4SeB80MUXo",
        "outputId": "0d245073-7e52-4876-f28f-3e004913041f"
      },
      "outputs": [
        {
          "output_type": "stream",
          "name": "stderr",
          "text": [
            "/usr/local/lib/python3.7/dist-packages/seaborn/_decorators.py:43: FutureWarning: Pass the following variables as keyword args: x, y. From version 0.12, the only valid positional argument will be `data`, and passing other arguments without an explicit keyword will result in an error or misinterpretation.\n",
            "  FutureWarning\n"
          ]
        },
        {
          "output_type": "display_data",
          "data": {
            "image/png": "[encoded data removed]",
            "text/plain": [
              "<Figure size 1080x360 with 1 Axes>"
            ]
          },
          "metadata": {
            "needs_background": "light"
          }
        }
      ],
      "source": [
        "plt.rcParams['figure.figsize'] = (15, 5)\n",
        "# exit rate vs raevenue\n",
        "sns.boxenplot(data['Revenue'], data['ExitRates'], palette = 'dark')\n",
        "plt.title('ExitRates vs Revenue', fontsize = 10)\n",
        "plt.xlabel('Revenue', fontsize = 10)\n",
        "plt.ylabel('ExitRates', fontsize = 10)\n",
        "\n",
        "plt.show()"
      ]
    },
    {
      "cell_type": "markdown",
      "metadata": {
        "id": "dIa7JQCGMUXp"
      },
      "source": [
        "#### Differences in ExitRates are not that significant by Revenue. We can note that the ExitRates are a little lower when there is a 'Purchase'."
      ]
    },
    {
      "cell_type": "code",
      "execution_count": null,
      "metadata": {
        "colab": {
          "base_uri": "https://localhost:8080/"
        },
        "id": "3vHmkN1kMUXp",
        "outputId": "2e4a948b-949f-4c86-c21f-9ca53e3ee8a0"
      },
      "outputs": [
        {
          "output_type": "display_data",
          "data": {
            "image/png": "[encoded data removed]",
            "text/plain": [
              "<Figure size 1080x360 with 1 Axes>"
            ]
          },
          "metadata": {
            "needs_background": "light"
          }
        }
      ],
      "source": [
        "df = pd.crosstab(data['VisitorType'], data['Revenue'])\n",
        "df.div(df.sum(1).astype(float), axis = 0).plot(kind = 'bar', stacked = True, figsize = (15, 5), color = ['lightblue', 'blue'])\n",
        "plt.title('Visitor Type vs Revenue', fontsize = 10)\n",
        "plt.show()"
      ]
    },
    {
      "cell_type": "markdown",
      "metadata": {
        "id": "ali8enLfMUXp"
      },
      "source": [
        "#### This crosstab shows us that the Visitor_Type has almost no influence on the number of Purchases."
      ]
    },
    {
      "cell_type": "markdown",
      "metadata": {
        "id": "kaoWv4FUMUXp"
      },
      "source": [
        "## Multivariate analysis"
      ]
    },
    {
      "cell_type": "code",
      "execution_count": null,
      "metadata": {
        "colab": {
          "base_uri": "https://localhost:8080/"
        },
        "id": "wyPREaatMUXp",
        "outputId": "16e804de-e04c-4972-eafd-ed897fa162e4"
      },
      "outputs": [
        {
          "output_type": "display_data",
          "data": {
            "image/png": "[encoded data removed]",
            "text/plain": [
              "<Figure size 2160x1440 with 1 Axes>"
            ]
          },
          "metadata": {
            "needs_background": "light"
          }
        }
      ],
      "source": [
        "plt.rcParams['figure.figsize'] = (30, 20)\n",
        "plt.subplot(2, 2, 1)\n",
        "sns.violinplot(x = data['VisitorType'], y = data['PageValues'], hue = data['Revenue'], palette = 'rainbow')\n",
        "plt.title('Visitors vs ExitRates by Revenue', fontsize = 20)\n",
        "plt.show()"
      ]
    },
    {
      "cell_type": "markdown",
      "metadata": {
        "id": "ebXKkJmcMUXq"
      },
      "source": [
        "#### The violin plot is showing us the same pattern for each visitor type. Page Value for most of the entries are close to 0 when the Revenue is False. But the values are spread out when Revenue is True. This may come from the definition of the PageValue, which gives a value close to 0 to pages which did not generate a lot of revenue."
      ]
    },
    {
      "cell_type": "markdown",
      "metadata": {
        "id": "X69x0vXkMUXq"
      },
      "source": [
        "## STEP 4: Building ML Model"
      ]
    },
    {
      "cell_type": "markdown",
      "metadata": {
        "id": "_AwqGuOhMUXq"
      },
      "source": [
        "## Overview of a few model's performance"
      ]
    },
    {
      "cell_type": "markdown",
      "metadata": {
        "id": "T2vqELUdMUXq"
      },
      "source": [
        "#### Let's compare a few algorithms that can be used for classification to see the performance of each ones."
      ]
    },
    {
      "cell_type": "code",
      "execution_count": null,
      "metadata": {
        "scrolled": true,
        "colab": {
          "base_uri": "https://localhost:8080/"
        },
        "id": "MN-LwvnXMUXq",
        "outputId": "e837de79-61a3-40c0-d6e0-d9871b3b3ec2"
      },
      "outputs": [
        {
          "output_type": "stream",
          "name": "stdout",
          "text": [
            "Naive Bayes \n",
            " Accuracy: 0.8353333333333334 \n",
            " F-score 0.5277246653919694\n",
            "Logistic Regression \n",
            " Accuracy: 0.864 \n",
            " F-score 0.35443037974683544\n",
            "K Nearest Neighbour \n",
            " Accuracy: 0.846 \n",
            " F-score 0.37057220708446864\n",
            "Support Vector Classification \n",
            " Accuracy: 0.8586666666666667 \n",
            " F-score 0.2689655172413793\n",
            "Decision Tree Classification \n",
            " Accuracy: 0.8553333333333333 \n",
            " F-score 0.5525773195876289\n",
            "Stochastic Gradient Descent \n",
            " Accuracy: 0.87 \n",
            " F-score 0.41441441441441446\n",
            "Linear Discriminant Analysis \n",
            " Accuracy: 0.8693333333333333 \n",
            " F-score 0.44\n",
            "Gradient Boosting Classification  \n",
            " Accuracy: 0.8886666666666667 \n",
            " F-score 0.6469344608879494\n",
            "Random Forest Classification \n",
            " Accuracy: 0.8906666666666667 \n",
            " F-score 0.6403508771929826\n"
          ]
        },
        {
          "output_type": "display_data",
          "data": {
            "image/png": "[encoded data removed]",
            "text/plain": [
              "<Figure size 1440x360 with 11 Axes>"
            ]
          },
          "metadata": {
            "needs_background": "light"
          }
        }
      ],
      "source": [
        "classifiers = {\n",
        "    \"Naive Bayes\": GaussianNB(),\n",
        "    \"Logistic Regression\": LogisticRegression(),\n",
        "    \"K Nearest Neighbour\": KNeighborsClassifier(),\n",
        "    \"Support Vector Classification\": SVC(),\n",
        "    \"Decision Tree Classification\": DecisionTreeClassifier(),\n",
        "    \"Stochastic Gradient Descent\": SGDClassifier(),\n",
        "    \"Linear Discriminant Analysis\": LinearDiscriminantAnalysis(),\n",
        "    \"Gradient Boosting Classification \": GradientBoostingClassifier(),\n",
        "    \"Random Forest Classification\": RandomForestClassifier()\n",
        "    }\n",
        "\n",
        "f, axes = plt.subplots(2, 5, figsize=(20, 5), sharey='row')\n",
        "\n",
        "for i, (key, classifier) in enumerate(classifiers.items()):\n",
        "    j = 0\n",
        "    k = i\n",
        "    if i>4:\n",
        "        k = i-5\n",
        "        j+=1\n",
        "    \n",
        "    y_pred = classifier.fit(X_train, y_train).predict(X_test)\n",
        "    cf_matrix = confusion_matrix(y_test, y_pred)\n",
        "    print(key, \"\\n Accuracy:\",accuracy_score(y_test,y_pred),\"\\n F-score\",f1_score(y_test,y_pred))\n",
        "    disp = ConfusionMatrixDisplay(cf_matrix,\n",
        "                                  display_labels=[\"Not Purchased\",\"Purchased\"])\n",
        "    disp.plot(ax=axes[j][k], xticks_rotation=45)\n",
        "    disp.ax_.set_title(key)\n",
        "    disp.im_.colorbar.remove()\n",
        "    disp.ax_.set_xlabel('')\n",
        "    if i!=0:\n",
        "        disp.ax_.set_ylabel('')\n",
        "\n",
        "f.text(0.43, -0.1, 'Predicted label', ha='left')\n",
        "plt.subplots_adjust(wspace=0.40, hspace=1)\n",
        "\n",
        "\n",
        "f.colorbar(disp.im_, ax=axes)\n",
        "plt.show()"
      ]
    },
    {
      "cell_type": "markdown",
      "metadata": {
        "id": "tS8Sbp_hMUXr"
      },
      "source": [
        "#### The four best performing ones are Random Forest, Gradient Boosting, Stochastic Gradient Descent and Decision Tree."
      ]
    },
    {
      "cell_type": "markdown",
      "metadata": {
        "id": "TEcMtYY7MUXr"
      },
      "source": [
        "## STEP 5 : Model Tuning (Grid Search)"
      ]
    },
    {
      "cell_type": "markdown",
      "metadata": {
        "id": "2Vfs59_BMUXr"
      },
      "source": [
        "#### We will tune the hyperparameters of our four best performing algorithms to see if we can improve the accuracy and f-score. We have to tune our parameters by the F-score because our dataset is unbalanced."
      ]
    },
    {
      "cell_type": "markdown",
      "metadata": {
        "id": "husGP2xnMUXr"
      },
      "source": [
        "## Gradient Boosting"
      ]
    },
    {
      "cell_type": "code",
      "execution_count": null,
      "metadata": {
        "scrolled": true,
        "colab": {
          "base_uri": "https://localhost:8080/"
        },
        "id": "IXLITgZvMUXr",
        "outputId": "c53bd623-efe2-4416-f8cb-24c62f886e4c"
      },
      "outputs": [
        {
          "output_type": "stream",
          "name": "stdout",
          "text": [
            "Fitting 5 folds for each of 10 candidates, totalling 50 fits\n"
          ]
        },
        {
          "output_type": "execute_result",
          "data": {
            "text/plain": [
              "RandomizedSearchCV(cv=5, estimator=GradientBoostingClassifier(), n_jobs=-1,\n",
              "                   param_distributions=[{'criterion': ['friedman_mse',\n",
              "                                                       'absolute_error'],\n",
              "                                         'learning_rate': [0.2, 0.3, 0.4],\n",
              "                                         'loss': ['deviance'],\n",
              "                                         'max_depth': [8, 10, 15],\n",
              "                                         'max_features': ['log2', 'sqrt'],\n",
              "                                         'min_samples_leaf': [0.0001, 0.001,\n",
              "                                                              0.01],\n",
              "                                         'min_samples_split': [0.01, 0.1, 0.5],\n",
              "                                         'n_estimators': [10, 20, 30],\n",
              "                                         'subsample': [0.7, 0.8, 0.9]}],\n",
              "                   scoring='f1', verbose=True)"
            ]
          },
          "metadata": {},
          "execution_count": 164
        }
      ],
      "source": [
        "parameters = [{\n",
        "    \"loss\":[\"deviance\"],\n",
        "    \"learning_rate\": [0.2,0.3,0.4],\n",
        "    \"min_samples_split\": [0.01,0.1, 0.5],\n",
        "    \"min_samples_leaf\": [0.0001,0.001, 0.01],\n",
        "    \"max_depth\":[8,10,15],\n",
        "    \"max_features\":[\"log2\",\"sqrt\"],\n",
        "    \"criterion\": [\"friedman_mse\",  \"absolute_error\"],\n",
        "    \"subsample\":[0.7,0.8,0.9],\n",
        "    \"n_estimators\":[10,20,30]\n",
        "    }]\n",
        "gbm = RandomizedSearchCV(GradientBoostingClassifier(), parameters, cv=5, n_jobs=-1,scoring='f1', verbose=True)\n",
        "gbm.fit(X_train,y_train)\n"
      ]
    },
    {
      "cell_type": "code",
      "execution_count": null,
      "metadata": {
        "colab": {
          "base_uri": "https://localhost:8080/"
        },
        "id": "Df_7iWyWMUXs",
        "outputId": "b1711d4d-17d3-4c1f-ff8e-938800a86b76"
      },
      "outputs": [
        {
          "output_type": "stream",
          "name": "stdout",
          "text": [
            "{'subsample': 0.9, 'n_estimators': 20, 'min_samples_split': 0.01, 'min_samples_leaf': 0.01, 'max_features': 'sqrt', 'max_depth': 10, 'loss': 'deviance', 'learning_rate': 0.2, 'criterion': 'friedman_mse'}\n"
          ]
        }
      ],
      "source": [
        "print(gbm.best_params_)"
      ]
    },
    {
      "cell_type": "code",
      "execution_count": null,
      "metadata": {
        "colab": {
          "base_uri": "https://localhost:8080/"
        },
        "id": "aQsBeewAMUXs",
        "outputId": "2ba535f3-fede-4f4c-def5-3dee40204e57"
      },
      "outputs": [
        {
          "output_type": "execute_result",
          "data": {
            "text/plain": [
              "0.892"
            ]
          },
          "metadata": {},
          "execution_count": 166
        }
      ],
      "source": [
        "# Gradient boosting with best parameters\n",
        "gs_gbm = GradientBoostingClassifier( \n",
        "    **gbm.best_params_\n",
        ")\n",
        "gs_gbm.fit(X_train, y_train)\n",
        "gs_gbm.score(X_test,y_test)"
      ]
    },
    {
      "cell_type": "markdown",
      "metadata": {
        "id": "s4jX5WrHMUXs"
      },
      "source": [
        "## Support Vector Classifier"
      ]
    },
    {
      "cell_type": "code",
      "execution_count": null,
      "metadata": {
        "colab": {
          "base_uri": "https://localhost:8080/"
        },
        "id": "IxZuzpdqMUXs",
        "outputId": "c62565c2-88dc-4571-ea3e-5a2ee2188583"
      },
      "outputs": [
        {
          "output_type": "stream",
          "name": "stdout",
          "text": [
            "Fitting 5 folds for each of 10 candidates, totalling 50 fits\n"
          ]
        },
        {
          "output_type": "execute_result",
          "data": {
            "text/plain": [
              "RandomizedSearchCV(cv=5, estimator=SVC(), n_jobs=-1,\n",
              "                   param_distributions={'C': array([2, 4, 6, 8]),\n",
              "                                        'gamma': array([0.1, 0.3, 0.5, 0.7, 0.9]),\n",
              "                                        'kernel': ['linear', 'rbf']},\n",
              "                   scoring='f1', verbose=True)"
            ]
          },
          "metadata": {},
          "execution_count": 167
        }
      ],
      "source": [
        "svm = SVC()\n",
        "parameters = {\"C\": np.arange(2, 10, 2),\n",
        "             \"gamma\": np.arange(0.1, 1, 0.2),\n",
        "             'kernel': ['linear', 'rbf']}\n",
        "svm = RandomizedSearchCV(svm, parameters, cv=5, n_jobs=-1,scoring='f1', verbose=True)\n",
        "svm.fit(X_train,y_train)\n"
      ]
    },
    {
      "cell_type": "code",
      "execution_count": null,
      "metadata": {
        "colab": {
          "base_uri": "https://localhost:8080/"
        },
        "id": "aXX-5-EOMUXt",
        "outputId": "8d3e7832-a6f1-41ae-8029-c13839e0f07d"
      },
      "outputs": [
        {
          "output_type": "stream",
          "name": "stdout",
          "text": [
            "{'kernel': 'linear', 'gamma': 0.30000000000000004, 'C': 8}\n"
          ]
        }
      ],
      "source": [
        "print(svm.best_params_)"
      ]
    },
    {
      "cell_type": "code",
      "execution_count": null,
      "metadata": {
        "colab": {
          "base_uri": "https://localhost:8080/"
        },
        "id": "HpkPUIcWMUXt",
        "outputId": "1e2b3db4-29e1-40b1-ede2-c6f4a64b09a8"
      },
      "outputs": [
        {
          "output_type": "execute_result",
          "data": {
            "text/plain": [
              "0.878"
            ]
          },
          "metadata": {},
          "execution_count": 169
        }
      ],
      "source": [
        "# Stochastic gradient descent with best parameters\n",
        "gs_svm = SVC(**svm.best_params_)\n",
        "gs_svm.fit(X_train, y_train)\n",
        "gs_svm.score(X_test,y_test)"
      ]
    },
    {
      "cell_type": "markdown",
      "metadata": {
        "id": "5CX4xJjIMUXt"
      },
      "source": [
        "## Random Forest"
      ]
    },
    {
      "cell_type": "code",
      "execution_count": null,
      "metadata": {
        "colab": {
          "base_uri": "https://localhost:8080/",
          "height": 244
        },
        "id": "3waQslcCMUXt",
        "outputId": "d168a2a1-24b7-4204-8145-a10b4aaf2288"
      },
      "outputs": [
        {
          "output_type": "error",
          "ename": "NameError",
          "evalue": "ignored",
          "traceback": [
            "\u001b[0;31m---------------------------------------------------------------------------\u001b[0m",
            "\u001b[0;31mNameError\u001b[0m                                 Traceback (most recent call last)",
            "\u001b[0;32m<ipython-input-1-c236690bda3d>\u001b[0m in \u001b[0;36m<module>\u001b[0;34m()\u001b[0m\n\u001b[1;32m      9\u001b[0m              }]\n\u001b[1;32m     10\u001b[0m \u001b[0;34m\u001b[0m\u001b[0m\n\u001b[0;32m---> 11\u001b[0;31m rf = RandomizedSearchCV(RandomForestClassifier(), \n\u001b[0m\u001b[1;32m     12\u001b[0m                   \u001b[0mparameters\u001b[0m\u001b[0;34m,\u001b[0m\u001b[0;34m\u001b[0m\u001b[0;34m\u001b[0m\u001b[0m\n\u001b[1;32m     13\u001b[0m                   \u001b[0mcv\u001b[0m\u001b[0;34m=\u001b[0m\u001b[0;36m5\u001b[0m\u001b[0;34m,\u001b[0m\u001b[0;34m\u001b[0m\u001b[0;34m\u001b[0m\u001b[0m\n",
            "\u001b[0;31mNameError\u001b[0m: name 'RandomizedSearchCV' is not defined"
          ]
        }
      ],
      "source": [
        "parameters = [{\n",
        "    \"criterion\": [\"gini\",  \"entropy\"],\n",
        "    \"n_estimators\": [200,400,600,800,1000],\n",
        "    \"max_features\": ['auto', 'sqrt'],\n",
        "    \"max_depth\": [5, 50, 100],\n",
        "    \"min_samples_split\": [5,10,15,20,25,30], \n",
        "    \"min_samples_leaf\": [1,5,10,15,20],\n",
        "    \"bootstrap\": [True, False]\n",
        "             }]\n",
        "\n",
        "rf = RandomizedSearchCV(RandomForestClassifier(), \n",
        "                  parameters, \n",
        "                  cv=5, \n",
        "                  n_jobs=-1,\n",
        "                  scoring='f1', \n",
        "                  verbose=True)\n",
        "\n",
        "rf.fit(X_train,y_train)"
      ]
    },
    {
      "cell_type": "code",
      "execution_count": null,
      "metadata": {
        "colab": {
          "base_uri": "https://localhost:8080/"
        },
        "id": "C4CLl0y_MUXu",
        "outputId": "1cca08e0-fee5-4fb6-f032-0bcc32562146"
      },
      "outputs": [
        {
          "output_type": "stream",
          "name": "stdout",
          "text": [
            "{'n_estimators': 800, 'min_samples_split': 30, 'min_samples_leaf': 1, 'max_features': 'auto', 'max_depth': 50, 'criterion': 'gini', 'bootstrap': True}\n"
          ]
        }
      ],
      "source": [
        "print(rf.best_params_)"
      ]
    },
    {
      "cell_type": "code",
      "execution_count": null,
      "metadata": {
        "colab": {
          "base_uri": "https://localhost:8080/"
        },
        "id": "Rxp8X_46MUXu",
        "outputId": "4bf420c6-c7a5-4635-cbfc-3224e62254b8"
      },
      "outputs": [
        {
          "output_type": "execute_result",
          "data": {
            "text/plain": [
              "0.892"
            ]
          },
          "metadata": {},
          "execution_count": 172
        }
      ],
      "source": [
        "# Random forest with best parameters\n",
        "gs_rf = RandomForestClassifier(**rf.best_params_)\n",
        "gs_rf.fit(X_train, y_train)\n",
        "gs_rf.score(X_test,y_test)"
      ]
    },
    {
      "cell_type": "markdown",
      "metadata": {
        "id": "PnuTI43mMUXu"
      },
      "source": [
        "## Decision Tree"
      ]
    },
    {
      "cell_type": "code",
      "execution_count": null,
      "metadata": {
        "scrolled": true,
        "colab": {
          "base_uri": "https://localhost:8080/"
        },
        "id": "mFq6WMthMUXv",
        "outputId": "33b8e980-b5dd-4890-d8e0-d5be3abdf706"
      },
      "outputs": [
        {
          "output_type": "stream",
          "name": "stdout",
          "text": [
            "Fitting 5 folds for each of 10 candidates, totalling 50 fits\n"
          ]
        },
        {
          "output_type": "execute_result",
          "data": {
            "text/plain": [
              "RandomizedSearchCV(cv=5, estimator=DecisionTreeClassifier(), n_jobs=-1,\n",
              "                   param_distributions=[{'criterion': ['gini', 'entropy'],\n",
              "                                         'max_depth': range(1, 10),\n",
              "                                         'min_samples_leaf': [1, 2, 5, 10],\n",
              "                                         'min_samples_split': range(1, 10)}],\n",
              "                   scoring='f1', verbose=True)"
            ]
          },
          "metadata": {},
          "execution_count": 173
        }
      ],
      "source": [
        "parameters = [{\n",
        "    \"criterion\": ['gini','entropy'],\n",
        "    \"max_depth\": range(1,10),\n",
        "    \"min_samples_split\": range(1,10), \n",
        "    \"min_samples_leaf\": [1,2,5,10],\n",
        "             }]\n",
        "\n",
        "dt = RandomizedSearchCV(DecisionTreeClassifier(),\n",
        "                  parameters, \n",
        "                  cv=5, n_jobs=-1,\n",
        "                  scoring='f1', \n",
        "                  verbose=True)\n",
        "\n",
        "dt.fit(X_train,y_train)"
      ]
    },
    {
      "cell_type": "code",
      "source": [
        ""
      ],
      "metadata": {
        "id": "nY43Q5uKTZ3o"
      },
      "execution_count": null,
      "outputs": []
    },
    {
      "cell_type": "code",
      "execution_count": null,
      "metadata": {
        "colab": {
          "base_uri": "https://localhost:8080/"
        },
        "id": "ZWyrbpiZMUXv",
        "outputId": "892f0528-02da-48e0-e2a0-c11ccdbb37c7"
      },
      "outputs": [
        {
          "output_type": "stream",
          "name": "stdout",
          "text": [
            "{'min_samples_split': 5, 'min_samples_leaf': 1, 'max_depth': 1, 'criterion': 'entropy'}\n"
          ]
        }
      ],
      "source": [
        "print(dt.best_params_)"
      ]
    },
    {
      "cell_type": "code",
      "execution_count": null,
      "metadata": {
        "colab": {
          "base_uri": "https://localhost:8080/"
        },
        "id": "3iN3TffYMUXv",
        "outputId": "e7ec5c88-8014-472a-9c32-1e2000dfb4e8"
      },
      "outputs": [
        {
          "output_type": "execute_result",
          "data": {
            "text/plain": [
              "0.87"
            ]
          },
          "metadata": {},
          "execution_count": 175
        }
      ],
      "source": [
        "# Decision Tree with best parameters\n",
        "gs_dt = DecisionTreeClassifier(**dt.best_params_)\n",
        "gs_dt.fit(X_train, y_train)\n",
        "gs_dt.score(X_test,y_test)"
      ]
    },
    {
      "cell_type": "code",
      "source": [
        "from xgboost import XGBClassifier\n",
        "import random\n",
        "from random import randint\n",
        "XGB_tunned_pca=XGBClassifier(random_state=0)\n",
        "params = {\n",
        "        'n_estimators': range(1,10),\n",
        "        'min_child_weight': [0.001,0.003,0.01],\n",
        "        'gamma': [0.5, 1, 1.5, 2, 5],\n",
        "        'booster':[\"gbtree\"],\n",
        "        'subsample': [0.6, 0.8, 1.0],\n",
        "        'colsample_bytree': [0.6, 0.8, 1.0],\n",
        "        'max_depth': range(2,10)\n",
        "        }\n",
        "\n",
        "rsearch_xgb=RandomizedSearchCV(XGB_tunned_pca,params,scoring = \"f1_micro\",cv=3,n_iter=200,n_jobs=-1,random_state=0)\n",
        "\n",
        "rsearch_xgb.fit(X_train,y_train)"
      ],
      "metadata": {
        "colab": {
          "base_uri": "https://localhost:8080/"
        },
        "id": "RaW2t19zRos4",
        "outputId": "2afffd56-ceb4-4bc7-9e9f-d42f4f452d0b"
      },
      "execution_count": null,
      "outputs": [
        {
          "output_type": "execute_result",
          "data": {
            "text/plain": [
              "RandomizedSearchCV(cv=3, estimator=XGBClassifier(), n_iter=200, n_jobs=-1,\n",
              "                   param_distributions={'booster': ['gbtree'],\n",
              "                                        'colsample_bytree': [0.6, 0.8, 1.0],\n",
              "                                        'gamma': [0.5, 1, 1.5, 2, 5],\n",
              "                                        'max_depth': range(2, 10),\n",
              "                                        'min_child_weight': [0.001, 0.003,\n",
              "                                                             0.01],\n",
              "                                        'n_estimators': range(1, 10),\n",
              "                                        'subsample': [0.6, 0.8, 1.0]},\n",
              "                   random_state=0, scoring='f1_micro')"
            ]
          },
          "metadata": {},
          "execution_count": 176
        }
      ]
    },
    {
      "cell_type": "code",
      "source": [
        "print(rsearch_xgb.best_params_)"
      ],
      "metadata": {
        "colab": {
          "base_uri": "https://localhost:8080/"
        },
        "id": "kzsSCcKMRorT",
        "outputId": "b6141628-8750-4e80-9a2d-b49c63bb8996"
      },
      "execution_count": null,
      "outputs": [
        {
          "output_type": "stream",
          "name": "stdout",
          "text": [
            "{'subsample': 1.0, 'n_estimators': 9, 'min_child_weight': 0.003, 'max_depth': 4, 'gamma': 5, 'colsample_bytree': 0.8, 'booster': 'gbtree'}\n"
          ]
        }
      ]
    },
    {
      "cell_type": "code",
      "source": [
        "gs_xgb = XGBClassifier(**dt.best_params_)\n",
        "gs_xgb.fit(X_train, y_train)\n",
        "print(gs_dt.score(X_test,y_test))\n",
        "f1_score(y_test,gs_xgb.predict(X_test),average='micro')"
      ],
      "metadata": {
        "colab": {
          "base_uri": "https://localhost:8080/"
        },
        "id": "FTdKpHjTSHff",
        "outputId": "8db59278-dede-4909-a94d-bed34bea6b0e"
      },
      "execution_count": null,
      "outputs": [
        {
          "output_type": "stream",
          "name": "stdout",
          "text": [
            "0.87\n"
          ]
        },
        {
          "output_type": "execute_result",
          "data": {
            "text/plain": [
              "0.888"
            ]
          },
          "metadata": {},
          "execution_count": 178
        }
      ]
    },
    {
      "cell_type": "markdown",
      "metadata": {
        "id": "IvOsBo8wMUXv"
      },
      "source": [
        "## STEP 6 : Ensemble Model Building"
      ]
    },
    {
      "cell_type": "markdown",
      "metadata": {
        "id": "6jWpYbeZMUXv"
      },
      "source": [
        "#### We will now compare our four model's performance."
      ]
    },
    {
      "cell_type": "code",
      "execution_count": null,
      "metadata": {
        "colab": {
          "base_uri": "https://localhost:8080/",
          "height": 574
        },
        "id": "nv8D-DNnMUXw",
        "outputId": "4baeed1e-8a46-431c-e5b5-f741346366a9"
      },
      "outputs": [
        {
          "output_type": "stream",
          "name": "stdout",
          "text": [
            "Gradient Boosting  \n",
            " Accuracy: 0.892 \n",
            " F-score 0.6415929203539823\n",
            "Random Forest  \n",
            " Accuracy: 0.8926666666666667 \n",
            " F-score 0.6507592190889371\n",
            "Decision Tree  \n",
            " Accuracy: 0.87 \n",
            " F-score 0.6700507614213198\n",
            "SVM  \n",
            " Accuracy: 0.878 \n",
            " F-score 0.512\n",
            "XGBoost  \n",
            " Accuracy: 0.888 \n",
            " F-score 0.6315789473684211\n"
          ]
        },
        {
          "output_type": "display_data",
          "data": {
            "image/png": "[encoded data removed]",
            "text/plain": [
              "<Figure size 1440x360 with 6 Axes>"
            ]
          },
          "metadata": {
            "needs_background": "light"
          }
        }
      ],
      "source": [
        "classifiers = {\n",
        "    \"Gradient Boosting\": gs_gbm,\n",
        "    \"Random Forest\": gs_rf,\n",
        "    \"Decision Tree\": gs_dt,\n",
        "    \"SVM\": gs_svm,\n",
        "    \"XGBoost\": gs_xgb\n",
        "}\n",
        "\n",
        "f, axes = plt.subplots(1, 5, figsize=(20, 5), sharey='row')\n",
        "\n",
        "for i, (key, classifier) in enumerate(classifiers.items()):\n",
        "    y_pred = classifier.fit(X_train, y_train).predict(X_test)\n",
        "    cf_matrix = confusion_matrix(y_test, y_pred)\n",
        "    print(key, \" \\n Accuracy:\",accuracy_score(y_test,y_pred),\"\\n F-score\",f1_score(y_test,y_pred))\n",
        "    disp = ConfusionMatrixDisplay(cf_matrix,\n",
        "                                  display_labels=[\"Not Purchased\",\"Purchased\"])\n",
        "    disp.plot(ax=axes[i], xticks_rotation=45)\n",
        "    disp.ax_.set_title(key)\n",
        "    disp.im_.colorbar.remove()\n",
        "    disp.ax_.set_xlabel('')\n",
        "    if i!=0:\n",
        "        disp.ax_.set_ylabel('')\n",
        "\n",
        "f.text(0.4, 0.1, 'Predicted label', ha='left')\n",
        "plt.subplots_adjust(wspace=0.40, hspace=0.1)\n",
        "\n",
        "\n",
        "f.colorbar(disp.im_, ax=axes)\n",
        "plt.show()"
      ]
    },
    {
      "cell_type": "markdown",
      "metadata": {
        "id": "9iK0aacuMUXw"
      },
      "source": [
        "#### Now we will make a model out of our three best performing ones."
      ]
    },
    {
      "cell_type": "code",
      "execution_count": null,
      "metadata": {
        "colab": {
          "base_uri": "https://localhost:8080/"
        },
        "id": "aZfLdp2kMUXw",
        "outputId": "2d1b76d8-1fcd-4db7-822a-81931d01d12f"
      },
      "outputs": [
        {
          "output_type": "stream",
          "name": "stdout",
          "text": [
            " Accuracy :  0.8906666666666667 \n",
            " F-score 0.6495726495726495\n"
          ]
        }
      ],
      "source": [
        "# Combination of the three best models\n",
        "estimators=[('Gradent Boosting', gs_gbm), ('Random Forest',gs_rf),('Decision Tree',gs_dt),('Support Vector Machine',gs_svm), ('XG Bosst', gs_xgb)]\n",
        "ensemble = VotingClassifier(estimators, voting='hard')\n",
        "ensemble.fit(X_train, y_train)\n",
        "y_pred = ensemble.fit(X_train, y_train).predict(X_test)\n",
        "print(\" Accuracy : \",accuracy_score(y_test,y_pred),\"\\n F-score\",f1_score(y_test,y_pred))"
      ]
    },
    {
      "cell_type": "markdown",
      "metadata": {
        "id": "_r_dKd6bMUXw"
      },
      "source": [
        "## STEP 7 : Export"
      ]
    },
    {
      "cell_type": "markdown",
      "metadata": {
        "id": "jz-Vzur1MUXx"
      },
      "source": [
        "### Exporting files for the API"
      ]
    },
    {
      "cell_type": "markdown",
      "metadata": {
        "id": "91o55fO4MUXx"
      },
      "source": [
        "#### In order to make our API we need to export all the processing our model. This will allow us to process our new data and make a prediction."
      ]
    },
    {
      "cell_type": "code",
      "execution_count": null,
      "metadata": {
        "id": "8YIPppkMMUXx"
      },
      "outputs": [],
      "source": [
        "# pickle.dump(ensemble, open('Flask_restful_api/model.pickle', 'wb'))\n",
        "# pickle.dump(scalar, open('Flask_restful_api/scaler.pickle','wb'))\n",
        "# pickle.dump(column_trans, open('Flask_restful_api/column_trans.pickle','wb'))"
      ]
    },
    {
      "cell_type": "code",
      "source": [
        ""
      ],
      "metadata": {
        "id": "XST6Yqeg8plx"
      },
      "execution_count": null,
      "outputs": []
    }
  ],
  "metadata": {
    "kernelspec": {
      "display_name": "Python 3",
      "language": "python",
      "name": "python3"
    },
    "language_info": {
      "codemirror_mode": {
        "name": "ipython",
        "version": 3
      },
      "file_extension": ".py",
      "mimetype": "text/x-python",
      "name": "python",
      "nbconvert_exporter": "python",
      "pygments_lexer": "ipython3",
      "version": "3.9.2"
    },
    "colab": {
      "name": "IDMP_Project_Feature_Selection.ipynb",
      "provenance": [],
      "collapsed_sections": [
        "Jz03dzwoMUXi",
        "3YHIYzCaMUXj",
        "hkTTM8u5MUXj",
        "QqH0dKa1MUXj",
        "GoZgBZ11MUXk",
        "ZJZvUJruMUXk",
        "7XHIPy93MUXl",
        "JxHHho19MUXl",
        "KartP3prMUXl",
        "_17SWRGiMUXm",
        "BlHOc3G9MUXm",
        "KVY9d8BqMUXm",
        "gmqCbnLxMUXn",
        "PFDCfu1rMUXn",
        "t9B5e-CKMUXo",
        "ZOKoj2nZMUXo",
        "dIa7JQCGMUXp",
        "ali8enLfMUXp",
        "kaoWv4FUMUXp",
        "ebXKkJmcMUXq",
        "X69x0vXkMUXq",
        "_AwqGuOhMUXq",
        "T2vqELUdMUXq",
        "tS8Sbp_hMUXr",
        "TEcMtYY7MUXr",
        "2Vfs59_BMUXr",
        "husGP2xnMUXr",
        "s4jX5WrHMUXs",
        "5CX4xJjIMUXt",
        "IvOsBo8wMUXv",
        "6jWpYbeZMUXv",
        "9iK0aacuMUXw",
        "_r_dKd6bMUXw",
        "jz-Vzur1MUXx",
        "91o55fO4MUXx"
      ]
    },
    "accelerator": "GPU"
  },
  "nbformat": 4,
  "nbformat_minor": 0
}